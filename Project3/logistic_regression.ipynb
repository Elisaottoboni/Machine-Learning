{
 "cells": [
  {
   "cell_type": "markdown",
   "metadata": {},
   "source": [
    "# Data Setup"
   ]
  },
  {
   "cell_type": "code",
   "execution_count": 1,
   "metadata": {},
   "outputs": [
    {
     "name": "stdout",
     "output_type": "stream",
     "text": [
      "Files and directories in 'C:\\Users\\lotop\\.cache\\kagglehub\\datasets\\fmena14\\volcanoesvenus\\versions\\1':\n",
      "['Volcanoes_test', 'Volcanoes_train']\n",
      "Files in 'Volcanoes_train':\n",
      "['train_images.csv', 'train_labels.csv']\n",
      "Files in 'Volcanoes_test':\n",
      "['test_images.csv', 'test_labels.csv']\n"
     ]
    }
   ],
   "source": [
    "import kagglehub\n",
    "import os\n",
    "import numpy as np\n",
    "import pandas as pd\n",
    "\n",
    "# Download latest version\n",
    "path = kagglehub.dataset_download(\"fmena14/volcanoesvenus\")\n",
    "\n",
    "# Get the list of all files and directories \n",
    "files = os.listdir(path)\n",
    "print(f\"Files and directories in '{path}':\\n{files}\")  \n",
    "\n",
    "train_files = os.listdir(os.path.join(path, 'Volcanoes_train'))\n",
    "test_files = os.listdir(os.path.join(path, 'Volcanoes_test'))\n",
    "\n",
    "# Check files inside the 'Volcanoes_test' and 'Volcanoes_train' files\n",
    "print(f\"Files in 'Volcanoes_train':\\n{train_files}\")\n",
    "print(f\"Files in 'Volcanoes_test':\\n{test_files}\")\n",
    "\n",
    "# We use 'header=None' for 'X_train' and 'X_test' so pandas doesn't treat the first row as indeces\n",
    "X_train = pd.read_csv(os.path.join(path, 'Volcanoes_train', 'train_images.csv'), header=None)\n",
    "y_train = pd.read_csv(os.path.join(path, 'Volcanoes_train', 'train_labels.csv'))\n",
    "X_test = pd.read_csv(os.path.join(path, 'Volcanoes_test', 'test_images.csv'), header=None)\n",
    "y_test = pd.read_csv(os.path.join(path, 'Volcanoes_test', 'test_labels.csv'))"
   ]
  },
  {
   "cell_type": "markdown",
   "metadata": {},
   "source": [
    "# Data Preprocessing"
   ]
  },
  {
   "cell_type": "code",
   "execution_count": 2,
   "metadata": {},
   "outputs": [
    {
     "name": "stdout",
     "output_type": "stream",
     "text": [
      "   0      1      2      3      4      5      6      7      8      9      ...  \\\n",
      "0     95    101     99    103     95     86     96     89     70    104  ...   \n",
      "1     91     92     91     89     92     93     96    101    107    104  ...   \n",
      "2     87     70     72     74     84     78     93    104    106    106  ...   \n",
      "3      0      0      0      0      0      0      0      0      0      0  ...   \n",
      "4    114    118    124    119     95    118    105    116    123    112  ...   \n",
      "\n",
      "   12090  12091  12092  12093  12094  12095  12096  12097  12098  12099  \n",
      "0    111    107     92     89    103     99    117    116    118     96  \n",
      "1    103     92     93     95     98    105    104    100     90     81  \n",
      "2     84     71     95    102     94     80     91     80     84     90  \n",
      "3     94     81     89     84     80     90     92     80     88     96  \n",
      "4    116    113    102     93    109    104    106    117    111    115  \n",
      "\n",
      "[5 rows x 12100 columns]\n",
      "--------------------------------------------------------------------------------\n",
      "   Volcano?  Type  Radius  Number Volcanoes\n",
      "0         1   3.0   17.46               1.0\n",
      "1         0   NaN     NaN               NaN\n",
      "2         0   NaN     NaN               NaN\n",
      "3         0   NaN     NaN               NaN\n",
      "4         0   NaN     NaN               NaN\n",
      "--------------------------------------------------------------------------------\n",
      "X_train shape: (7000, 12100)\n",
      "y_train shape: (7000, 4)\n",
      "X_test shape: (2734, 12100)\n",
      "y_test shape: (2734, 4)\n",
      "--------------------------------------------------------------------------------\n",
      "<class 'pandas.core.frame.DataFrame'>\n",
      "RangeIndex: 7000 entries, 0 to 6999\n",
      "Columns: 12100 entries, 0 to 12099\n",
      "dtypes: int64(12100)\n",
      "memory usage: 646.2 MB\n",
      "None\n",
      "--------------------------------------------------------------------------------\n",
      "<class 'pandas.core.frame.DataFrame'>\n",
      "RangeIndex: 7000 entries, 0 to 6999\n",
      "Data columns (total 4 columns):\n",
      " #   Column            Non-Null Count  Dtype  \n",
      "---  ------            --------------  -----  \n",
      " 0   Volcano?          7000 non-null   int64  \n",
      " 1   Type              1000 non-null   float64\n",
      " 2   Radius            1000 non-null   float64\n",
      " 3   Number Volcanoes  1000 non-null   float64\n",
      "dtypes: float64(3), int64(1)\n",
      "memory usage: 218.9 KB\n",
      "None\n"
     ]
    }
   ],
   "source": [
    "print(X_train.head())\n",
    "print('-'*80)\n",
    "print(y_train.head())\n",
    "print('-'*80)\n",
    "print(f'X_train shape: {X_train.shape}\\ny_train shape: {y_train.shape}\\nX_test shape: {X_test.shape}\\ny_test shape: {y_test.shape}')\n",
    "print('-'*80)\n",
    "print(X_train.info())\n",
    "print('-'*80)\n",
    "print(y_train.info())"
   ]
  },
  {
   "cell_type": "markdown",
   "metadata": {},
   "source": [
    "In this analysis, we are only interested in identifying the presence or absence of volcanoes. Therefore, the `Volcano?` column will be used as the target variable. Fortunately, it doesn't contain any NaN values. The NaN values in the other columns ('Type', 'Radius', 'Number Volcanoes') are irrelevant for this task and can be safely ignored."
   ]
  },
  {
   "cell_type": "code",
   "execution_count": 3,
   "metadata": {},
   "outputs": [],
   "source": [
    "# Extract the 'Volcano?' column as the target variable\n",
    "y_train = y_train['Volcano?']\n",
    "y_test = y_test['Volcano?']"
   ]
  },
  {
   "cell_type": "markdown",
   "metadata": {},
   "source": [
    "## Data normalization"
   ]
  },
  {
   "cell_type": "markdown",
   "metadata": {},
   "source": [
    "The main classifiers we want to implement in this analysis are logistic regression and random forest. For the former, we need to normalize our data. For a more consistent approach, we will use data normalization for both the logistic regression and random forest models, even though the latter doesn't really require it.\n",
    "\n",
    "In this particular case, dividing all input values by the highest value ($=255$) is essentially equivalent to using the MinMaxScaler. However, the former approach has the main advantage of computational efficiency, so it's preferred."
   ]
  },
  {
   "cell_type": "code",
   "execution_count": 4,
   "metadata": {},
   "outputs": [],
   "source": [
    "def raw_image_normalizer(X):\n",
    "    '''\n",
    "    Takes as input flattened raw images and normalizes them by dividing its values for the highest value.\n",
    "\n",
    "    Input parameters:\n",
    "    - X: A feature matrix X.\n",
    "\n",
    "    Output:\n",
    "    - X_normalized: The respective normalized feature matrix X.\n",
    "    '''\n",
    "\n",
    "    max_value = X.values.max()\n",
    "    X_normalized = X / max_value\n",
    "\n",
    "    return X_normalized"
   ]
  },
  {
   "cell_type": "code",
   "execution_count": 5,
   "metadata": {},
   "outputs": [],
   "source": [
    "# Normalization of both train and test inputs\n",
    "\n",
    "X_train = raw_image_normalizer(X_train)\n",
    "X_test = raw_image_normalizer(X_test)"
   ]
  },
  {
   "cell_type": "markdown",
   "metadata": {},
   "source": [
    "## Dimensionality reduction"
   ]
  },
  {
   "cell_type": "markdown",
   "metadata": {},
   "source": [
    "After normalizing the data, we can proceed to the dimensionality reduction part. \n",
    "\n",
    "### Why use dimensionality reduction?\n",
    "\n",
    "In the training data, we have a total number of features ($p$) equal to $12 \\, 100$, and a total number of samples ($n$) equal to $5 \\, 000$. This property of our feature matrix ($p >> n$) can cause several problems, such as \n",
    "\n",
    "- **Overfitting**: Having many more features than samples can lead to noise fitting.\n",
    "- Slow computation: Dimensionality reduction methods such as PCA on large matrices can be computationally expensive.\n",
    "- Numerical instability: Dimensionality reduction mitigates numerical instability in subsequent steps (e.g., model fitting).\n",
    "\n",
    "For all of the above reasons, we will use PCA to reduce the dimensionality of the data. We aim to retain about $95/%$ of the total variance.\n",
    "\n",
    "### Why do we focus on the retained variance rather than the number of dimensions?\n",
    "\n",
    "Rather than arbitrarily choosing the number of dimensions to reduce to, it is generally preferable to choose the number of dimensions that add up to a sufficiently large portion of the variance (e.g., $95\\%$). Unless, of course, we are reducing the dimensionality for data visualization - in which case we will generally want to reduce the dimensionality to $2$ or $3$.\n",
    "\n",
    "### References\n",
    "\n",
    "- ML Jupyter book: https://compphysics.github.io/MachineLearning/doc/LectureNotes/_build/html/chapter8.html\n",
    "- SL book (for the part regarding $p >> n$ and numerical instability)"
   ]
  },
  {
   "cell_type": "code",
   "execution_count": 6,
   "metadata": {},
   "outputs": [],
   "source": [
    "from sklearn.decomposition import PCA\n",
    "\n",
    "# Fit PCA on the training data (calculate principal components)\n",
    "pca = PCA(n_components=0.95)\n",
    "X_train_reduced = pca.fit_transform(X_train)\n",
    "\n",
    "# Transform the test data using the same PCA model\n",
    "X_test_reduced = pca.transform(X_test)"
   ]
  },
  {
   "cell_type": "code",
   "execution_count": 7,
   "metadata": {},
   "outputs": [
    {
     "name": "stdout",
     "output_type": "stream",
     "text": [
      "Number of components retained: 1537\n",
      "Cumulative explained variance: [0.68638636 0.71755797 0.72901591 ... 0.94992152 0.94996224 0.9500029 ]\n"
     ]
    }
   ],
   "source": [
    "print(f\"Number of components retained: {pca.n_components_}\")\n",
    "print(f\"Cumulative explained variance: {pca.explained_variance_ratio_.cumsum()}\")"
   ]
  },
  {
   "cell_type": "markdown",
   "metadata": {},
   "source": [
    "The dimensionality was successfully reduced from $12 \\, 100$ to $1 \\, 537$, while retaining $95\\%$ of the variance. We managed to achieve our objective in terms of dimensionality reduction."
   ]
  },
  {
   "cell_type": "markdown",
   "metadata": {},
   "source": [
    "## Oversampling\n",
    "\n",
    "Finally, we need to address the fact that the number of volcanoes' images in the training data is just a small portion of the total number of images. For this reason, we will implement **SMOTE** (Synthetic Minority Over-sampling Technique). This algorithm allows us to generates synthetic samples by interpolating between existing minority class samples."
   ]
  },
  {
   "cell_type": "code",
   "execution_count": 8,
   "metadata": {},
   "outputs": [],
   "source": [
    "from imblearn.over_sampling import SMOTE\n",
    "\n",
    "smote = SMOTE(random_state=42)\n",
    "X_train_balanced, y_train_balanced = smote.fit_resample(X_train_reduced, y_train)"
   ]
  },
  {
   "cell_type": "code",
   "execution_count": 9,
   "metadata": {},
   "outputs": [
    {
     "name": "stdout",
     "output_type": "stream",
     "text": [
      "Counter({1: 6000, 0: 6000})\n"
     ]
    }
   ],
   "source": [
    "from collections import Counter\n",
    "\n",
    "# We verify the new class distribution\n",
    "print(Counter(y_train_balanced))"
   ]
  },
  {
   "cell_type": "markdown",
   "metadata": {},
   "source": [
    "# Logistic regression"
   ]
  },
  {
   "cell_type": "markdown",
   "metadata": {},
   "source": [
    "## Logistic regression class"
   ]
  },
  {
   "cell_type": "code",
   "execution_count": 10,
   "metadata": {},
   "outputs": [],
   "source": [
    "import numpy as np\n",
    "from sklearn.metrics import accuracy_score, precision_score, recall_score, f1_score\n",
    "from sklearn.preprocessing import StandardScaler\n",
    "import matplotlib.pyplot as plt\n",
    "\n",
    "\n",
    "class LogisticRegressionSGD:\n",
    "    \"\"\"\n",
    "    Logistic Regression classifier using Stochastic Gradient Descent (SGD) optimization.\n",
    "\n",
    "    This class supports logistic regression with various features such as:\n",
    "    - Mini-batch SGD with momentum.\n",
    "    - L2 regularization.\n",
    "    - Early stopping with patience.\n",
    "    - Hyperparameter analysis for tuning learning rate and regularization parameters.\n",
    "    \"\"\"\n",
    "    def __init__(self, learning_rate=0.01, num_iterations=1000, batch_size=32, momentum=0.0, l2_lambda=0.0, patience=10, tol=1e-4, verbose=False):\n",
    "        self.learning_rate = learning_rate\n",
    "        self.num_iterations = num_iterations\n",
    "        self.batch_size = batch_size\n",
    "        self.momentum = momentum\n",
    "        self.l2_lambda = l2_lambda\n",
    "        self.patience = patience  # Early stopping patience\n",
    "        self.tol = tol  # Minimum improvement threshold for early stopping\n",
    "        self.beta = None  # Vector of weights for the logistic regression model\n",
    "        self.verbose = verbose\n",
    "        self.loss_history = []\n",
    "\n",
    "    def sigmoid(self, z):\n",
    "        return 1 / (1 + np.exp(-z))\n",
    "\n",
    "    def compute_loss(self, X, y):\n",
    "        y_pred = self.sigmoid(X @ self.beta)\n",
    "        # Clip y_pred to avoid log(0) issues\n",
    "        y_pred = np.clip(y_pred, 1e-10, 1 - 1e-10)\n",
    "        loss = -np.mean(y * np.log(y_pred) + (1 - y) * np.log(1 - y_pred))\n",
    "        if self.l2_lambda > 0:\n",
    "            loss += (self.l2_lambda / 2) * np.sum(self.beta ** 2)\n",
    "        return loss\n",
    "\n",
    "    def SGDfit(self, X, y):\n",
    "        samples, features = X.shape\n",
    "        self.beta = np.random.randn(features, 1) * 0.01  # Small initialization\n",
    "        velocity = np.zeros((features, 1))\n",
    "\n",
    "        # Initialize best_loss to infinity to ensure any first epoch loss will be smaller, allowing it to update.\n",
    "        best_loss = float('inf')\n",
    "        patience_counter = 0\n",
    "\n",
    "        for epoch in range(self.num_iterations):\n",
    "            # Shuffle data\n",
    "            shuffled_indices = np.random.permutation(samples)\n",
    "            X_shuffled = X[shuffled_indices]\n",
    "            y_shuffled = y[shuffled_indices].reshape(-1, 1)\n",
    "\n",
    "            # Loop over mini-batches\n",
    "            for i in range(0, samples, self.batch_size):\n",
    "                X_batch = X_shuffled[i:i + self.batch_size]\n",
    "                y_batch = y_shuffled[i:i + self.batch_size]\n",
    "\n",
    "                # Compute predictions\n",
    "                y_predicted = self.sigmoid(X_batch @ self.beta)\n",
    "\n",
    "                # Compute the gradient with L2 regularization\n",
    "                gradient = (X_batch.T @ (y_predicted - y_batch)) / self.batch_size\n",
    "                if self.l2_lambda > 0:\n",
    "                    gradient += self.l2_lambda * self.beta\n",
    "\n",
    "                # Update velocity and beta with momentum\n",
    "                velocity = self.momentum * velocity + self.learning_rate * gradient\n",
    "                self.beta -= velocity\n",
    "\n",
    "            # Calculate and check loss for early stopping\n",
    "            current_loss = self.compute_loss(X, y)\n",
    "            self.loss_history.append(current_loss)  # Track loss over epochs\n",
    "\n",
    "            # Print loss every 100 epochs if verbose is True\n",
    "            if self.verbose and epoch % 100 == 0:\n",
    "                print(f\"Epoch {epoch}: Training Loss = {current_loss:.4f}\")\n",
    "\n",
    "            if current_loss < best_loss - self.tol:\n",
    "                best_loss = current_loss\n",
    "                patience_counter = 0  # Reset counter if improvement\n",
    "            else:\n",
    "                patience_counter += 1  # Increment counter if no significant improvement\n",
    "\n",
    "            if patience_counter >= self.patience:\n",
    "                print(f\"Stopping early at epoch {epoch + 1}\")\n",
    "                break\n",
    "\n",
    "    def predict(self, X):\n",
    "        linear_model = X @ self.beta\n",
    "        y_predicted = self.sigmoid(linear_model)\n",
    "        return [1 if i >= 0.5 else 0 for i in y_predicted]\n",
    "\n",
    "    def plot_loss_history(self):\n",
    "        plt.plot(self.loss_history)\n",
    "        plt.xlabel('Epochs')\n",
    "        plt.ylabel('Training Loss')\n",
    "        plt.title('Training Loss over Epochs')\n",
    "        plt.show()\n",
    "\n",
    "    def analyze_hyperparameters(\n",
    "        self,\n",
    "        X_train,\n",
    "        y_train,\n",
    "        X_test,\n",
    "        y_test,\n",
    "        learning_rates=None,\n",
    "        regularization_terms=None,\n",
    "        num_iterations=5000,\n",
    "        save_to_pdf=True\n",
    "    ):\n",
    "        \"\"\"\n",
    "        Perform grid search to optimize learning rate and regularization parameters,\n",
    "        including metrics like precision, recall, and F1-score.\n",
    "\n",
    "        Returns:\n",
    "        --------\n",
    "        tuple : (best_learning_rate, best_lambda, best_f1, best_model)\n",
    "            - best_learning_rate (float): Optimal learning rate based on highest F1-score.\n",
    "            - best_lambda (float): Optimal regularization term (λ) based on highest F1-score.\n",
    "            - best_f1 (float): Highest F1-score achieved.\n",
    "            - best_model (LogisticRegressionSGD): Model instance trained with best parameters.\n",
    "        \"\"\"\n",
    "        if learning_rates is None:\n",
    "            learning_rates = np.logspace(-5, 1, 70)\n",
    "        if regularization_terms is None:\n",
    "            regularization_terms = np.logspace(-4, 1, 50)\n",
    "\n",
    "        # Best parameters initialization\n",
    "        best_f1 = 0\n",
    "        best_learning_rate = None\n",
    "        best_lambda = 0.0\n",
    "        best_model = None\n",
    "\n",
    "        # Analyze learning rates\n",
    "        print(\"Analyzing learning rates...\")\n",
    "        for lr in learning_rates:\n",
    "            model = LogisticRegressionSGD(\n",
    "                learning_rate=lr,\n",
    "                num_iterations=num_iterations,\n",
    "                batch_size=self.batch_size,\n",
    "                momentum=self.momentum,\n",
    "                l2_lambda=0.01,  # Temporary regularization for LR search\n",
    "                patience=self.patience,\n",
    "                tol=self.tol\n",
    "            )\n",
    "            model.SGDfit(X_train, y_train)\n",
    "            \n",
    "            # Predictions and metrics\n",
    "            predictions = model.predict(X_test)\n",
    "            f1 = f1_score(y_test, predictions)\n",
    "            precision = precision_score(y_test, predictions)\n",
    "            recall = recall_score(y_test, predictions)\n",
    "            accuracy = accuracy_score(y_test, predictions)\n",
    "            \n",
    "            # Print verbose results\n",
    "            if self.verbose:\n",
    "                print(f\"Learning rate: {lr:.6f}, \"\n",
    "                      f\"F1-score: {f1:.4f}, \"\n",
    "                      f\"Precision: {precision:.4f}, \"\n",
    "                      f\"Recall: {recall:.4f}, \"\n",
    "                      f\"Accuracy: {accuracy:.4f}\")\n",
    "            \n",
    "            # Track best parameters based on F1-score\n",
    "            if f1 > best_f1:\n",
    "                best_f1 = f1\n",
    "                best_learning_rate = lr\n",
    "                best_model = model\n",
    "\n",
    "        print(f\"\\nBest learning rate found: {best_learning_rate:.6f} (F1-score: {best_f1:.4f})\")\n",
    "        print('-' * 60)\n",
    "\n",
    "        # Analyze regularization terms\n",
    "        print(\"\\nAnalyzing regularization terms...\")\n",
    "        for reg in regularization_terms:\n",
    "            model = LogisticRegressionSGD(\n",
    "                learning_rate=best_learning_rate,\n",
    "                num_iterations=num_iterations,\n",
    "                batch_size=self.batch_size,\n",
    "                momentum=self.momentum,\n",
    "                l2_lambda=reg,\n",
    "                patience=self.patience,\n",
    "                tol=self.tol\n",
    "            )\n",
    "            model.SGDfit(X_train, y_train)\n",
    "            \n",
    "            # Predictions and metrics\n",
    "            predictions = model.predict(X_test)\n",
    "            f1 = f1_score(y_test, predictions)\n",
    "            precision = precision_score(y_test, predictions)\n",
    "            recall = recall_score(y_test, predictions)\n",
    "            accuracy = accuracy_score(y_test, predictions)\n",
    "            \n",
    "            # Print verbose results\n",
    "            if self.verbose:\n",
    "                print(f\"Lambda: {reg:.6f}, \"\n",
    "                      f\"F1-score: {f1:.4f}, \"\n",
    "                      f\"Precision: {precision:.4f}, \"\n",
    "                      f\"Recall: {recall:.4f}, \"\n",
    "                      f\"Accuracy: {accuracy:.4f}\")\n",
    "            \n",
    "            # Track best parameters based on F1-score\n",
    "            if f1 > best_f1:\n",
    "                best_f1 = f1\n",
    "                best_lambda = reg\n",
    "                best_model = model\n",
    "\n",
    "        print(f\"\\nBest regularization term found: {best_lambda:.6f} (F1-score: {best_f1:.4f})\")\n",
    "        return best_learning_rate, best_lambda, best_f1, best_model"
   ]
  },
  {
   "cell_type": "markdown",
   "metadata": {},
   "source": [
    "## Logistic regression data implementation"
   ]
  },
  {
   "cell_type": "markdown",
   "metadata": {},
   "source": [
    "### Before fine-tuning of hyperparameters"
   ]
  },
  {
   "cell_type": "code",
   "execution_count": 11,
   "metadata": {},
   "outputs": [],
   "source": [
    "model = LogisticRegressionSGD(\n",
    "    learning_rate=0.01,\n",
    "    num_iterations=1000,\n",
    "    batch_size=32,\n",
    "    momentum=0.9,\n",
    "    l2_lambda=0.1,\n",
    "    patience=10,\n",
    "    tol=1e-4,\n",
    "    verbose=True\n",
    ")"
   ]
  },
  {
   "cell_type": "code",
   "execution_count": null,
   "metadata": {},
   "outputs": [
    {
     "name": "stdout",
     "output_type": "stream",
     "text": [
      "Epoch 0: Training Loss = 0.8328\n",
      "Stopping early at epoch 17\n"
     ]
    }
   ],
   "source": [
    "# Train the model\n",
    "model.SGDfit(X_train_balanced, y_train_balanced.values)\n",
    "\n",
    "# Make predictions on the test set\n",
    "predictions = model.predict(X_test_reduced)"
   ]
  },
  {
   "cell_type": "code",
   "execution_count": 13,
   "metadata": {},
   "outputs": [
    {
     "name": "stdout",
     "output_type": "stream",
     "text": [
      "Classification Report on Test Set:\n",
      "              precision    recall  f1-score   support\n",
      "\n",
      "  No Volcano       0.98      0.64      0.77      2300\n",
      "     Volcano       0.33      0.93      0.48       434\n",
      "\n",
      "    accuracy                           0.68      2734\n",
      "   macro avg       0.65      0.78      0.63      2734\n",
      "weighted avg       0.88      0.68      0.72      2734\n",
      "\n"
     ]
    }
   ],
   "source": [
    "from sklearn.metrics import classification_report\n",
    "\n",
    "# Evaluation of the model\n",
    "print(\"Classification Report on Test Set:\")\n",
    "print(classification_report(y_test, predictions, target_names=[\"No Volcano\", \"Volcano\"]))"
   ]
  },
  {
   "cell_type": "markdown",
   "metadata": {},
   "source": [
    "### After fine-tuning of hyperparameters"
   ]
  },
  {
   "cell_type": "code",
   "execution_count": 14,
   "metadata": {},
   "outputs": [
    {
     "name": "stdout",
     "output_type": "stream",
     "text": [
      "Analyzing learning rates...\n",
      "Stopping early at epoch 11\n",
      "Learning rate: 0.000100, F1-score: 0.4738, Precision: 0.3206, Recall: 0.9078, Accuracy: 0.6800\n",
      "Stopping early at epoch 11\n",
      "Learning rate: 0.000278, F1-score: 0.4926, Precision: 0.3358, Recall: 0.9240, Accuracy: 0.6979\n",
      "Stopping early at epoch 11\n",
      "Learning rate: 0.000774, F1-score: 0.5240, Precision: 0.3629, Recall: 0.9424, Accuracy: 0.7282\n",
      "Stopping early at epoch 11\n",
      "Learning rate: 0.002154, F1-score: 0.5321, Precision: 0.3704, Recall: 0.9447, Accuracy: 0.7363\n",
      "Stopping early at epoch 11\n",
      "Learning rate: 0.005995, F1-score: 0.4982, Precision: 0.3392, Recall: 0.9378, Accuracy: 0.7001\n",
      "Stopping early at epoch 11\n",
      "Learning rate: 0.016681, F1-score: 0.5245, Precision: 0.3645, Recall: 0.9355, Accuracy: 0.7308\n",
      "Stopping early at epoch 17\n",
      "Learning rate: 0.046416, F1-score: 0.4964, Precision: 0.3355, Recall: 0.9539, Accuracy: 0.6928\n",
      "Stopping early at epoch 27\n",
      "Learning rate: 0.129155, F1-score: 0.4042, Precision: 0.2656, Recall: 0.8456, Accuracy: 0.6042\n",
      "Stopping early at epoch 11\n",
      "Learning rate: 0.359381, F1-score: 0.3300, Precision: 0.2176, Recall: 0.6820, Accuracy: 0.5604\n"
     ]
    },
    {
     "name": "stderr",
     "output_type": "stream",
     "text": [
      "C:\\Users\\lotop\\AppData\\Local\\Temp\\ipykernel_6312\\1760158216.py:30: RuntimeWarning: overflow encountered in exp\n",
      "  return 1 / (1 + np.exp(-z))\n"
     ]
    },
    {
     "name": "stdout",
     "output_type": "stream",
     "text": [
      "Stopping early at epoch 19\n",
      "Learning rate: 1.000000, F1-score: 0.3280, Precision: 0.2161, Recall: 0.6797, Accuracy: 0.5578\n",
      "\n",
      "Best learning rate found: 0.002154 (F1-score: 0.5321)\n",
      "------------------------------------------------------------\n",
      "\n",
      "Analyzing regularization terms...\n",
      "Stopping early at epoch 11\n",
      "Lambda: 0.001000, F1-score: 0.5384, Precision: 0.3765, Recall: 0.9447, Accuracy: 0.7429\n",
      "Stopping early at epoch 11\n",
      "Lambda: 0.002783, F1-score: 0.5177, Precision: 0.3569, Recall: 0.9424, Accuracy: 0.7213\n",
      "Stopping early at epoch 11\n",
      "Lambda: 0.007743, F1-score: 0.5328, Precision: 0.3710, Recall: 0.9447, Accuracy: 0.7370\n",
      "Stopping early at epoch 11\n",
      "Lambda: 0.021544, F1-score: 0.5128, Precision: 0.3516, Recall: 0.9470, Accuracy: 0.7143\n",
      "Stopping early at epoch 11\n",
      "Lambda: 0.059948, F1-score: 0.4869, Precision: 0.3283, Recall: 0.9424, Accuracy: 0.6847\n",
      "Stopping early at epoch 11\n",
      "Lambda: 0.166810, F1-score: 0.4736, Precision: 0.3178, Recall: 0.9286, Accuracy: 0.6723\n",
      "Stopping early at epoch 19\n",
      "Lambda: 0.464159, F1-score: 0.3899, Precision: 0.2562, Recall: 0.8157, Accuracy: 0.5947\n",
      "Stopping early at epoch 13\n",
      "Lambda: 1.291550, F1-score: 0.3891, Precision: 0.2546, Recall: 0.8249, Accuracy: 0.5889\n",
      "Stopping early at epoch 13\n",
      "Lambda: 3.593814, F1-score: 0.3105, Precision: 0.2031, Recall: 0.6590, Accuracy: 0.5355\n",
      "Stopping early at epoch 25\n",
      "Lambda: 10.000000, F1-score: 0.2644, Precision: 0.1742, Recall: 0.5484, Accuracy: 0.5157\n",
      "\n",
      "Best regularization term found: 0.001000 (F1-score: 0.5384)\n",
      "Best Learning Rate: 0.002154434690031882\n",
      "Best Regularization Term (Lambda): 0.001\n",
      "Best F1-Score: 0.5384110308601444\n"
     ]
    }
   ],
   "source": [
    "# Define ranges for hyperparameter search\n",
    "learning_rates = np.logspace(-4, 0, 10)  # Learning rates between 1e-4 and 1\n",
    "regularization_terms = np.logspace(-3, 1, 10)  # Regularization terms between 1e-3 and 10\n",
    "\n",
    "# Perform hyperparameter analysis\n",
    "best_lr, best_lambda, best_f1, best_model = model.analyze_hyperparameters(\n",
    "    X_train_balanced,\n",
    "    y_train_balanced.values,\n",
    "    X_test_reduced,\n",
    "    y_test.values,\n",
    "    learning_rates=learning_rates,\n",
    "    regularization_terms=regularization_terms,\n",
    "    num_iterations=1000  # Adjust iterations if needed\n",
    ")\n",
    "\n",
    "# Display the best hyperparameters and F1-score\n",
    "print(f\"Best Learning Rate: {best_lr}\")\n",
    "print(f\"Best Regularization Term (Lambda): {best_lambda}\")\n",
    "print(f\"Best F1-Score: {best_f1}\")"
   ]
  },
  {
   "cell_type": "code",
   "execution_count": 16,
   "metadata": {},
   "outputs": [],
   "source": [
    "# Final model with optimal hyperparameters\n",
    "final_model = LogisticRegressionSGD(\n",
    "    learning_rate=best_lr,           # Best learning rate found\n",
    "    num_iterations=1000,             # Number of iterations for training\n",
    "    batch_size=32,                   # Batch size for SGD\n",
    "    momentum=0.9,                    # Momentum to stabilize training\n",
    "    l2_lambda=best_lambda,           # Best regularization term found\n",
    "    patience=10,                     # Early stopping patience\n",
    "    tol=1e-4,                        # Minimum improvement threshold\n",
    "    verbose=True                     # Enable detailed output\n",
    ")"
   ]
  },
  {
   "cell_type": "code",
   "execution_count": 17,
   "metadata": {},
   "outputs": [
    {
     "name": "stdout",
     "output_type": "stream",
     "text": [
      "Epoch 0: Training Loss = 0.7659\n",
      "Stopping early at epoch 11\n"
     ]
    }
   ],
   "source": [
    "# Train the final model\n",
    "final_model.SGDfit(X_train_balanced, y_train_balanced.values)\n",
    "\n",
    "# Make predictions on the test set\n",
    "final_predictions = final_model.predict(X_test_reduced)"
   ]
  },
  {
   "cell_type": "code",
   "execution_count": null,
   "metadata": {},
   "outputs": [
    {
     "name": "stdout",
     "output_type": "stream",
     "text": [
      "Final Classification Report:\n",
      "              precision    recall  f1-score   support\n",
      "\n",
      "  No Volcano       0.98      0.68      0.81      2300\n",
      "     Volcano       0.36      0.94      0.52       434\n",
      "\n",
      "    accuracy                           0.72      2734\n",
      "   macro avg       0.67      0.81      0.66      2734\n",
      "weighted avg       0.88      0.72      0.76      2734\n",
      "\n"
     ]
    }
   ],
   "source": [
    "from sklearn.metrics import classification_report\n",
    "\n",
    "# Evaluation of the final model\n",
    "print(\"Final Classification Report:\")\n",
    "print(classification_report(y_test, final_predictions, target_names=[\"No Volcano\", \"Volcano\"]))"
   ]
  },
  {
   "cell_type": "code",
   "execution_count": 20,
   "metadata": {},
   "outputs": [
    {
     "data": {
      "image/png": "[encoded data removed]",
      "text/plain": [
       "<Figure size 800x600 with 2 Axes>"
      ]
     },
     "metadata": {},
     "output_type": "display_data"
    }
   ],
   "source": [
    "# Confusion matrix visualization\n",
    "\n",
    "import matplotlib.pyplot as plt\n",
    "import seaborn as sns\n",
    "from sklearn.metrics import confusion_matrix\n",
    "\n",
    "# Generate confusion matrix\n",
    "cm = confusion_matrix(y_test, final_predictions)\n",
    "\n",
    "# Plot the confusion matrix\n",
    "plt.figure(figsize=(8, 6))\n",
    "sns.heatmap(cm, annot=True, fmt=\"d\", cmap=\"Blues\", xticklabels=[\"No Volcano\", \"Volcano\"], yticklabels=[\"No Volcano\", \"Volcano\"])\n",
    "plt.xlabel(\"Predicted Labels\")\n",
    "plt.ylabel(\"True Labels\")\n",
    "plt.title(\"Confusion Matrix\")\n",
    "plt.show()"
   ]
  },
  {
   "cell_type": "markdown",
   "metadata": {},
   "source": []
  }
 ],
 "metadata": {
  "kernelspec": {
   "display_name": "ml_project3_env",
   "language": "python",
   "name": "python3"
  },
  "language_info": {
   "codemirror_mode": {
    "name": "ipython",
    "version": 3
   },
   "file_extension": ".py",
   "mimetype": "text/x-python",
   "name": "python",
   "nbconvert_exporter": "python",
   "pygments_lexer": "ipython3",
   "version": "3.12.6"
  }
 },
 "nbformat": 4,
 "nbformat_minor": 2
}
