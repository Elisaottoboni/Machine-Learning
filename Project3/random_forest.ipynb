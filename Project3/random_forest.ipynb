{
 "cells": [
  {
   "cell_type": "markdown",
   "metadata": {},
   "source": [
    "# Data Setup"
   ]
  },
  {
   "cell_type": "code",
   "execution_count": 1,
   "metadata": {},
   "outputs": [
    {
     "name": "stdout",
     "output_type": "stream",
     "text": [
      "Files and directories in 'C:\\Users\\lotop\\.cache\\kagglehub\\datasets\\fmena14\\volcanoesvenus\\versions\\1':\n",
      "['Volcanoes_test', 'Volcanoes_train']\n",
      "Files in 'Volcanoes_train':\n",
      "['train_images.csv', 'train_labels.csv']\n",
      "Files in 'Volcanoes_test':\n",
      "['test_images.csv', 'test_labels.csv']\n"
     ]
    }
   ],
   "source": [
    "import kagglehub\n",
    "import os\n",
    "import numpy as np\n",
    "import pandas as pd\n",
    "\n",
    "# Download latest version\n",
    "path = kagglehub.dataset_download(\"fmena14/volcanoesvenus\")\n",
    "\n",
    "# Get the list of all files and directories \n",
    "files = os.listdir(path)\n",
    "print(f\"Files and directories in '{path}':\\n{files}\")  \n",
    "\n",
    "train_files = os.listdir(os.path.join(path, 'Volcanoes_train'))\n",
    "test_files = os.listdir(os.path.join(path, 'Volcanoes_test'))\n",
    "\n",
    "# Check files inside the 'Volcanoes_test' and 'Volcanoes_train' files\n",
    "print(f\"Files in 'Volcanoes_train':\\n{train_files}\")\n",
    "print(f\"Files in 'Volcanoes_test':\\n{test_files}\")\n",
    "\n",
    "# We use 'header=None' for 'X_train' and 'X_test' so pandas doesn't treat the first row as indeces\n",
    "X_train = pd.read_csv(os.path.join(path, 'Volcanoes_train', 'train_images.csv'), header=None)\n",
    "y_train = pd.read_csv(os.path.join(path, 'Volcanoes_train', 'train_labels.csv'))\n",
    "X_test = pd.read_csv(os.path.join(path, 'Volcanoes_test', 'test_images.csv'), header=None)\n",
    "y_test = pd.read_csv(os.path.join(path, 'Volcanoes_test', 'test_labels.csv'))"
   ]
  },
  {
   "cell_type": "markdown",
   "metadata": {},
   "source": [
    "# Data Preprocessing"
   ]
  },
  {
   "cell_type": "code",
   "execution_count": 2,
   "metadata": {},
   "outputs": [
    {
     "name": "stdout",
     "output_type": "stream",
     "text": [
      "   0      1      2      3      4      5      6      7      8      9      ...  \\\n",
      "0     95    101     99    103     95     86     96     89     70    104  ...   \n",
      "1     91     92     91     89     92     93     96    101    107    104  ...   \n",
      "2     87     70     72     74     84     78     93    104    106    106  ...   \n",
      "3      0      0      0      0      0      0      0      0      0      0  ...   \n",
      "4    114    118    124    119     95    118    105    116    123    112  ...   \n",
      "\n",
      "   12090  12091  12092  12093  12094  12095  12096  12097  12098  12099  \n",
      "0    111    107     92     89    103     99    117    116    118     96  \n",
      "1    103     92     93     95     98    105    104    100     90     81  \n",
      "2     84     71     95    102     94     80     91     80     84     90  \n",
      "3     94     81     89     84     80     90     92     80     88     96  \n",
      "4    116    113    102     93    109    104    106    117    111    115  \n",
      "\n",
      "[5 rows x 12100 columns]\n",
      "--------------------------------------------------------------------------------\n",
      "   Volcano?  Type  Radius  Number Volcanoes\n",
      "0         1   3.0   17.46               1.0\n",
      "1         0   NaN     NaN               NaN\n",
      "2         0   NaN     NaN               NaN\n",
      "3         0   NaN     NaN               NaN\n",
      "4         0   NaN     NaN               NaN\n",
      "--------------------------------------------------------------------------------\n",
      "X_train shape: (7000, 12100)\n",
      "y_train shape: (7000, 4)\n",
      "X_test shape: (2734, 12100)\n",
      "y_test shape: (2734, 4)\n",
      "--------------------------------------------------------------------------------\n",
      "<class 'pandas.core.frame.DataFrame'>\n",
      "RangeIndex: 7000 entries, 0 to 6999\n",
      "Columns: 12100 entries, 0 to 12099\n",
      "dtypes: int64(12100)\n",
      "memory usage: 646.2 MB\n",
      "None\n",
      "--------------------------------------------------------------------------------\n",
      "<class 'pandas.core.frame.DataFrame'>\n",
      "RangeIndex: 7000 entries, 0 to 6999\n",
      "Data columns (total 4 columns):\n",
      " #   Column            Non-Null Count  Dtype  \n",
      "---  ------            --------------  -----  \n",
      " 0   Volcano?          7000 non-null   int64  \n",
      " 1   Type              1000 non-null   float64\n",
      " 2   Radius            1000 non-null   float64\n",
      " 3   Number Volcanoes  1000 non-null   float64\n",
      "dtypes: float64(3), int64(1)\n",
      "memory usage: 218.9 KB\n",
      "None\n"
     ]
    }
   ],
   "source": [
    "print(X_train.head())\n",
    "print('-'*80)\n",
    "print(y_train.head())\n",
    "print('-'*80)\n",
    "print(f'X_train shape: {X_train.shape}\\ny_train shape: {y_train.shape}\\nX_test shape: {X_test.shape}\\ny_test shape: {y_test.shape}')\n",
    "print('-'*80)\n",
    "print(X_train.info())\n",
    "print('-'*80)\n",
    "print(y_train.info())"
   ]
  },
  {
   "cell_type": "markdown",
   "metadata": {},
   "source": [
    "In this analysis, we are only interested in identifying the presence or absence of volcanoes. Therefore, the `Volcano?` column will be used as the target variable. Fortunately, it doesn't contain any NaN values. The NaN values in the other columns (`Type`, `Radius`, `Number Volcanoes`) are irrelevant for this task and can be safely ignored."
   ]
  },
  {
   "cell_type": "code",
   "execution_count": 3,
   "metadata": {},
   "outputs": [],
   "source": [
    "# Extract the 'Volcano?' column as the target variable\n",
    "y_train = y_train['Volcano?']\n",
    "y_test = y_test['Volcano?']"
   ]
  },
  {
   "cell_type": "markdown",
   "metadata": {},
   "source": [
    "In this notebook, we will implement a **random forest** to evaluate the dataset at hand. Unlike gradient-based models, such as logistic regression, random forests are tree-based and thus not sensitive to feature scaling. This means that preprocessing steps like normalization are not necessary.\n",
    "\n",
    "However, methods for dimensionality reduction (e.g., PCA) or oversampling (e.g., SMOTE) could still benefit the model by addressing issues such as noise or class imbalance. Not only, PCA could also help making the whole process less computationally expensive.\n",
    "\n",
    "Given the initial high dimensionality of the dataset ($12 \\, 100$ input features) and its unbalanced nature, we wil apply both PCA and SMOTE. Before applying PCA, we need to normalize the data."
   ]
  },
  {
   "cell_type": "markdown",
   "metadata": {},
   "source": [
    "## Data normalization"
   ]
  },
  {
   "cell_type": "code",
   "execution_count": 4,
   "metadata": {},
   "outputs": [],
   "source": [
    "def raw_image_normalizer(X):\n",
    "    '''\n",
    "    Takes as input flattened raw images and normalizes them by dividing its values for the highest value.\n",
    "\n",
    "    Input parameters:\n",
    "    - X: A feature matrix X.\n",
    "\n",
    "    Output:\n",
    "    - X_normalized: The respective normalized feature matrix X.\n",
    "    '''\n",
    "\n",
    "    max_value = X.values.max()\n",
    "    X_normalized = X / max_value\n",
    "\n",
    "    return X_normalized"
   ]
  },
  {
   "cell_type": "code",
   "execution_count": 5,
   "metadata": {},
   "outputs": [],
   "source": [
    "# Normalization of both train and test inputs\n",
    "\n",
    "X_train = raw_image_normalizer(X_train)\n",
    "X_test = raw_image_normalizer(X_test)"
   ]
  },
  {
   "cell_type": "markdown",
   "metadata": {},
   "source": [
    "## Dimensionality reduction (PCA)"
   ]
  },
  {
   "cell_type": "code",
   "execution_count": 6,
   "metadata": {},
   "outputs": [],
   "source": [
    "from sklearn.decomposition import PCA\n",
    "\n",
    "# Fit PCA on the training data (calculate principal components)\n",
    "pca = PCA(n_components=0.95)\n",
    "X_train_reduced = pca.fit_transform(X_train)\n",
    "\n",
    "# Transform the test data using the same PCA model\n",
    "X_test_reduced = pca.transform(X_test)"
   ]
  },
  {
   "cell_type": "code",
   "execution_count": 7,
   "metadata": {},
   "outputs": [
    {
     "name": "stdout",
     "output_type": "stream",
     "text": [
      "Number of components retained: 1537\n",
      "Cumulative explained variance: [0.68638636 0.71755797 0.72901591 ... 0.94992152 0.94996224 0.9500029 ]\n"
     ]
    }
   ],
   "source": [
    "print(f\"Number of components retained: {pca.n_components_}\")\n",
    "print(f\"Cumulative explained variance: {pca.explained_variance_ratio_.cumsum()}\")"
   ]
  },
  {
   "cell_type": "markdown",
   "metadata": {},
   "source": [
    "## Oversampling (SMOTE)"
   ]
  },
  {
   "cell_type": "code",
   "execution_count": 8,
   "metadata": {},
   "outputs": [],
   "source": [
    "from imblearn.over_sampling import SMOTE\n",
    "\n",
    "smote = SMOTE(random_state=42)\n",
    "X_train_balanced, y_train_balanced = smote.fit_resample(X_train_reduced, y_train)"
   ]
  },
  {
   "cell_type": "code",
   "execution_count": 9,
   "metadata": {},
   "outputs": [
    {
     "name": "stdout",
     "output_type": "stream",
     "text": [
      "Counter({1: 6000, 0: 6000})\n"
     ]
    }
   ],
   "source": [
    "from collections import Counter\n",
    "\n",
    "# We verify the new class distribution\n",
    "print(Counter(y_train_balanced))"
   ]
  },
  {
   "cell_type": "markdown",
   "metadata": {},
   "source": [
    "# Random Forest"
   ]
  },
  {
   "cell_type": "markdown",
   "metadata": {},
   "source": [
    "In this first implementation, we will use a model characterized by very little regularization. We need to be aware of the risk of overfitting. In particular, we are using the following parameters:\n",
    "\n",
    "- `n_estimators` (The number of decision trees in the ensemble) = `1000` \n",
    "- `max_depth` (The maximum depth of each decision tree, which controls the model’s ability to capture complexity in the data) =  `None`\n",
    "- `max_features` (The number of features randomly selected from the total amount of predictors) = `sqrt` (default)\n",
    "- `criterion` (The impurity measure used to evaluate splits, such as Gini impurity or entropy) = We will test both `gini` and `entropy`."
   ]
  },
  {
   "cell_type": "code",
   "execution_count": 10,
   "metadata": {},
   "outputs": [
    {
     "name": "stdout",
     "output_type": "stream",
     "text": [
      "Classification Report on Test Set:\n",
      "              precision    recall  f1-score   support\n",
      "\n",
      "  No Volcano       0.92      0.94      0.93      2300\n",
      "     Volcano       0.66      0.58      0.61       434\n",
      "\n",
      "    accuracy                           0.88      2734\n",
      "   macro avg       0.79      0.76      0.77      2734\n",
      "weighted avg       0.88      0.88      0.88      2734\n",
      "\n"
     ]
    }
   ],
   "source": [
    "from sklearn.ensemble import RandomForestClassifier\n",
    "from sklearn.metrics import classification_report\n",
    "\n",
    "# IMPURITY MEASURE: GINI\n",
    "# Instantiate the model with 1000 trees and 'gini' as splitting criteria\n",
    "Random_Forest_model = RandomForestClassifier(n_estimators=1000, max_depth=None, criterion=\"gini\")\n",
    "Random_Forest_model.fit(X_train_balanced, y_train_balanced)\n",
    "\n",
    "predictions = Random_Forest_model.predict(X_test_reduced) # We use X_test_reduced because we applied PCA on X_test\n",
    "\n",
    "# Print the classification report\n",
    "print(\"Classification Report on Test Set:\")\n",
    "print(classification_report(y_test, predictions, target_names=[\"No Volcano\", \"Volcano\"]))"
   ]
  },
  {
   "cell_type": "code",
   "execution_count": 11,
   "metadata": {},
   "outputs": [
    {
     "data": {
      "image/png": "[encoded data removed]",
      "text/plain": [
       "<Figure size 800x600 with 2 Axes>"
      ]
     },
     "metadata": {},
     "output_type": "display_data"
    }
   ],
   "source": [
    "# Confusion matrix visualization referred to Gini criterion\n",
    "\n",
    "import matplotlib.pyplot as plt\n",
    "import seaborn as sns\n",
    "from sklearn.metrics import confusion_matrix\n",
    "\n",
    "# Generate confusion matrix\n",
    "cm = confusion_matrix(y_test, predictions)\n",
    "\n",
    "# Plot the confusion matrix\n",
    "plt.figure(figsize=(8, 6))\n",
    "sns.heatmap(cm, annot=True, fmt=\"d\", cmap=\"Blues\", xticklabels=[\"No Volcano\", \"Volcano\"], yticklabels=[\"No Volcano\", \"Volcano\"])\n",
    "plt.xlabel(\"Predicted Labels\")\n",
    "plt.ylabel(\"True Labels\")\n",
    "plt.title(\"Random Forest Confusion Matrix (Gini)\")\n",
    "plt.show()"
   ]
  },
  {
   "cell_type": "code",
   "execution_count": 12,
   "metadata": {},
   "outputs": [
    {
     "name": "stdout",
     "output_type": "stream",
     "text": [
      "Classification Report on Test Set:\n",
      "              precision    recall  f1-score   support\n",
      "\n",
      "  No Volcano       0.93      0.93      0.93      2300\n",
      "     Volcano       0.62      0.64      0.63       434\n",
      "\n",
      "    accuracy                           0.88      2734\n",
      "   macro avg       0.78      0.78      0.78      2734\n",
      "weighted avg       0.88      0.88      0.88      2734\n",
      "\n"
     ]
    }
   ],
   "source": [
    "from sklearn.ensemble import RandomForestClassifier\n",
    "from sklearn.metrics import classification_report\n",
    "\n",
    "# IMPURITY MEASURE: ENTROPY\n",
    "# Instantiate the model with 1000 trees and 'entropy' as splitting criteria\n",
    "Random_Forest_model = RandomForestClassifier(n_estimators=1000, max_depth=None, criterion=\"entropy\")\n",
    "Random_Forest_model.fit(X_train_balanced, y_train_balanced)\n",
    "\n",
    "predictions = Random_Forest_model.predict(X_test_reduced) # We use X_test_reduced because we applied PCA on X_test\n",
    "\n",
    "# Print the classification report\n",
    "print(\"Classification Report on Test Set:\")\n",
    "print(classification_report(y_test, predictions, target_names=[\"No Volcano\", \"Volcano\"]))"
   ]
  },
  {
   "cell_type": "markdown",
   "metadata": {},
   "source": [
    "According to the `f1-score` for the `Volcano` class and the `macro avg`, the main metrics we are interested in for this analysis, because they are the most comprehensive, using `entropy` as a criterion gives us slightly better results."
   ]
  },
  {
   "cell_type": "code",
   "execution_count": 13,
   "metadata": {},
   "outputs": [
    {
     "data": {
      "image/png": "[encoded data removed]",
      "text/plain": [
       "<Figure size 800x600 with 2 Axes>"
      ]
     },
     "metadata": {},
     "output_type": "display_data"
    }
   ],
   "source": [
    "# Confusion matrix visualization referred to entropy criterion\n",
    "\n",
    "import matplotlib.pyplot as plt\n",
    "import seaborn as sns\n",
    "from sklearn.metrics import confusion_matrix\n",
    "\n",
    "# Generate confusion matrix\n",
    "cm = confusion_matrix(y_test, predictions)\n",
    "\n",
    "# Plot the confusion matrix\n",
    "plt.figure(figsize=(8, 6))\n",
    "sns.heatmap(cm, annot=True, fmt=\"d\", cmap=\"Blues\", xticklabels=[\"No Volcano\", \"Volcano\"], yticklabels=[\"No Volcano\", \"Volcano\"])\n",
    "plt.xlabel(\"Predicted Labels\")\n",
    "plt.ylabel(\"True Labels\")\n",
    "plt.title(\"Random Forest Confusion Matrix (Entropy)\")\n",
    "plt.show()"
   ]
  },
  {
   "cell_type": "markdown",
   "metadata": {},
   "source": [
    "Just to make sure we are not overfitting, given the almost absent regularization in the models (`n_estimators=1000`, `max_depth=None`). Let's analyze the performance of the model on the train data (we'll use `entropy` as impurity measure, because we showed its slightly better perfomance)."
   ]
  },
  {
   "cell_type": "code",
   "execution_count": null,
   "metadata": {},
   "outputs": [
    {
     "name": "stdout",
     "output_type": "stream",
     "text": [
      "Classification Report on Train Set:\n",
      "              precision    recall  f1-score   support\n",
      "\n",
      "  No Volcano       1.00      1.00      1.00      6000\n",
      "     Volcano       1.00      1.00      1.00      6000\n",
      "\n",
      "    accuracy                           1.00     12000\n",
      "   macro avg       1.00      1.00      1.00     12000\n",
      "weighted avg       1.00      1.00      1.00     12000\n",
      "\n",
      "Classification Report on Test Set:\n",
      "              precision    recall  f1-score   support\n",
      "\n",
      "  No Volcano       0.93      0.93      0.93      2300\n",
      "     Volcano       0.63      0.64      0.63       434\n",
      "\n",
      "    accuracy                           0.88      2734\n",
      "   macro avg       0.78      0.78      0.78      2734\n",
      "weighted avg       0.88      0.88      0.88      2734\n",
      "\n"
     ]
    }
   ],
   "source": [
    "from sklearn.ensemble import RandomForestClassifier\n",
    "from sklearn.metrics import classification_report\n",
    "\n",
    "# IMPURITY MEASURE: ENTROPY\n",
    "# Instantiate the model with 1000 trees and 'entropy' as splitting criteria\n",
    "Random_Forest_model = RandomForestClassifier(n_estimators=1000, max_depth=None, criterion=\"entropy\")\n",
    "Random_Forest_model.fit(X_train_balanced, y_train_balanced)\n",
    "\n",
    "# Get predictions on train data\n",
    "train_predictions = Random_Forest_model.predict(X_train_balanced)\n",
    "\n",
    "# Get predictions on test data  \n",
    "test_predictions = Random_Forest_model.predict(X_test_reduced) # We use X_test_reduced because we applied PCA on X_test\n",
    "\n",
    "# Print the classification report for train data\n",
    "print(\"Classification Report on Train Set:\")\n",
    "print(classification_report(y_train_balanced, train_predictions, target_names=[\"No Volcano\", \"Volcano\"]))\n",
    "\n",
    "# Print the classification report for test data\n",
    "print(\"Classification Report on Test Set:\")\n",
    "print(classification_report(y_test, test_predictions, target_names=[\"No Volcano\", \"Volcano\"]))"
   ]
  },
  {
   "cell_type": "markdown",
   "metadata": {},
   "source": [
    "## Addressing overfitting"
   ]
  },
  {
   "cell_type": "markdown",
   "metadata": {},
   "source": [
    "From the above classification report, we are in a clear case of overfitting. We need to regularize the model. We'll start by drastically reducing the depth of the trees (from `None` to `10`)."
   ]
  },
  {
   "cell_type": "code",
   "execution_count": 15,
   "metadata": {},
   "outputs": [
    {
     "name": "stdout",
     "output_type": "stream",
     "text": [
      "Classification Report on Train Set:\n",
      "              precision    recall  f1-score   support\n",
      "\n",
      "  No Volcano       1.00      0.98      0.99      6000\n",
      "     Volcano       0.98      1.00      0.99      6000\n",
      "\n",
      "    accuracy                           0.99     12000\n",
      "   macro avg       0.99      0.99      0.99     12000\n",
      "weighted avg       0.99      0.99      0.99     12000\n",
      "\n",
      "Classification Report on Test Set:\n",
      "              precision    recall  f1-score   support\n",
      "\n",
      "  No Volcano       0.95      0.87      0.91      2300\n",
      "     Volcano       0.52      0.74      0.61       434\n",
      "\n",
      "    accuracy                           0.85      2734\n",
      "   macro avg       0.73      0.80      0.76      2734\n",
      "weighted avg       0.88      0.85      0.86      2734\n",
      "\n"
     ]
    }
   ],
   "source": [
    "from sklearn.ensemble import RandomForestClassifier\n",
    "from sklearn.metrics import classification_report\n",
    "\n",
    "# IMPURITY MEASURE: ENTROPY\n",
    "# Instantiate the model with 1000 trees and 'entropy' as splitting criteria\n",
    "Random_Forest_model = RandomForestClassifier(n_estimators=1000, max_depth=10, criterion=\"entropy\")\n",
    "Random_Forest_model.fit(X_train_balanced, y_train_balanced)\n",
    "\n",
    "# Get predictions on train data\n",
    "train_predictions = Random_Forest_model.predict(X_train_balanced)\n",
    "\n",
    "# Get predictions on test data  \n",
    "test_predictions = Random_Forest_model.predict(X_test_reduced) # We use X_test_reduced because we applied PCA on X_test\n",
    "\n",
    "# Print the classification report for train data\n",
    "print(\"Classification Report on Train Set:\")\n",
    "print(classification_report(y_train_balanced, train_predictions, target_names=[\"No Volcano\", \"Volcano\"]))\n",
    "\n",
    "# Print the classification report for test data\n",
    "print(\"Classification Report on Test Set:\")\n",
    "print(classification_report(y_test, test_predictions, target_names=[\"No Volcano\", \"Volcano\"]))"
   ]
  },
  {
   "cell_type": "markdown",
   "metadata": {},
   "source": [
    "We will now use a grid search approach to evaluate different depths and "
   ]
  },
  {
   "cell_type": "code",
   "execution_count": null,
   "metadata": {},
   "outputs": [],
   "source": [
    "from sklearn.ensemble import RandomForestClassifier\n",
    "from sklearn.metrics import classification_report\n",
    "\n",
    "# IMPURITY MEASURE: ENTROPY\n",
    "# Instantiate the model with 1000 trees and 'entropy' as splitting criteria\n",
    "Random_Forest_model = RandomForestClassifier(n_estimators=1000, max_depth=5, criterion=\"entropy\")\n",
    "Random_Forest_model.fit(X_train_balanced, y_train_balanced)\n",
    "\n",
    "# Get predictions on train data\n",
    "train_predictions = Random_Forest_model.predict(X_train_balanced)\n",
    "\n",
    "# Get predictions on test data  \n",
    "test_predictions = Random_Forest_model.predict(X_test_reduced) # We use X_test_reduced because we applied PCA on X_test\n",
    "\n",
    "# Print the classification report for train data\n",
    "print(\"Classification Report on Train Set:\")\n",
    "print(classification_report(y_train_balanced, train_predictions, target_names=[\"No Volcano\", \"Volcano\"]))\n",
    "\n",
    "# Print the classification report for test data\n",
    "print(\"Classification Report on Test Set:\")\n",
    "print(classification_report(y_test, test_predictions, target_names=[\"No Volcano\", \"Volcano\"]))"
   ]
  }
 ],
 "metadata": {
  "kernelspec": {
   "display_name": "ml_project3_env",
   "language": "python",
   "name": "python3"
  },
  "language_info": {
   "codemirror_mode": {
    "name": "ipython",
    "version": 3
   },
   "file_extension": ".py",
   "mimetype": "text/x-python",
   "name": "python",
   "nbconvert_exporter": "python",
   "pygments_lexer": "ipython3",
   "version": "3.12.6"
  }
 },
 "nbformat": 4,
 "nbformat_minor": 2
}
